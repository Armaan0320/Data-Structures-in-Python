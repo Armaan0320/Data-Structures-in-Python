{
 "cells": [
  {
   "cell_type": "code",
   "execution_count": 6,
   "id": "6e1b176b-3a69-4f83-932f-270819d57064",
   "metadata": {},
   "outputs": [],
   "source": [
    "#stack in python"
   ]
  },
  {
   "cell_type": "code",
   "execution_count": 10,
   "id": "8afa3c58-db64-4ca8-bc59-0bf9d66f54f7",
   "metadata": {},
   "outputs": [],
   "source": [
    "#implementation of stack as a list\n",
    "def isEmpty(stk):   #defined a function, whose function is to check if the stack is empty or not.\n",
    "    if stk == []:   \n",
    "        return True\n",
    "    else:\n",
    "        return False"
   ]
  },
  {
   "cell_type": "code",
   "execution_count": 12,
   "id": "24cf35e9-b959-4712-bd1d-9fdfc4363019",
   "metadata": {},
   "outputs": [],
   "source": [
    "def Push(stk, item):   #defined a function to add an item to the top of the stack\n",
    "    stk.append(item)   #statement to add an itme to the top of the stack using \"append\" keyword\n",
    "    top = len(stk)-1   #The value of top is length of stack -1,----as in indexing index starts from 0. \n",
    "                    #Therefore the length of the stack will be one extra so 1 is subtracted to get the index of top.\n",
    "    "
   ]
  },
  {
   "cell_type": "code",
   "execution_count": 14,
   "id": "ee95afa4-54f0-4c0c-8a50-b54db9b2e7cb",
   "metadata": {},
   "outputs": [],
   "source": [
    "def Pop(stk):             #defined a function to pop an item from the top of the stack.\n",
    "    if isEmpty(stk):      #If the stack is empty then the stack is in the condition \"underflow\" means empty.\n",
    "        return \"underflow\"\n",
    "    else:                 \n",
    "        item = stk.pop()  \n",
    "        if len(stk) == 0:  \n",
    "            top = None\n",
    "        else:\n",
    "            top = len(stk)-1\n",
    "        return item"
   ]
  },
  {
   "cell_type": "code",
   "execution_count": 16,
   "id": "79bcb4fc-ec4c-4f8b-9b29-b8489c30fa77",
   "metadata": {},
   "outputs": [],
   "source": [
    "def Peek(stk):           #returns the top item of the stack without removing it.\n",
    "    if isEmpty(stk):     #statement check for underflow condition.\n",
    "        return \"Underflow\"\n",
    "    else:                #if stack is not empty then else condtion activates and the item on top of stack is returned.\n",
    "        top = len(stk)-1\n",
    "        return stk[top]"
   ]
  },
  {
   "cell_type": "code",
   "execution_count": 17,
   "id": "950cbde4-7e5d-48e6-8c67-208f2e2f8888",
   "metadata": {},
   "outputs": [],
   "source": [
    "def display(stk):\n",
    "    if isEmpty(stk):\n",
    "        return \"Underflow\"\n",
    "    else: \n",
    "        top = len(stk)-1\n",
    "        print(stk[top], \"<--top\")\n",
    "        for a in range(top-1, -1, -1):\n",
    "            print(stk[a])"
   ]
  },
  {
   "cell_type": "code",
   "execution_count": 19,
   "id": "5c8a2e5f-46bb-41b3-8218-702dac2598e3",
   "metadata": {},
   "outputs": [],
   "source": [
    "#__main__\n",
    "Stack = []        #Initially stack is empty\n",
    "top = None        #So, top is taken as None"
   ]
  },
  {
   "cell_type": "code",
   "execution_count": 25,
   "id": "c1fad646-ef1d-466f-8751-a3a1757f993a",
   "metadata": {},
   "outputs": [
    {
     "name": "stdout",
     "output_type": "stream",
     "text": [
      "Stack Operations\n",
      "1.push\n",
      "2.pop\n",
      "3.peek\n",
      "4.display stack\n",
      "5.exit\n"
     ]
    },
    {
     "name": "stdin",
     "output_type": "stream",
     "text": [
      "Enter you choice of stack operation here: 5\n"
     ]
    }
   ],
   "source": [
    "while True:\n",
    "    print(\"Stack Operations\")\n",
    "    print(\"1.push\")\n",
    "    print(\"2.pop\")\n",
    "    print(\"3.peek\")\n",
    "    print(\"4.display stack\")\n",
    "    print(\"5.exit\")\n",
    "    ch = int(input(\"Enter you choice of stack operation here:\"))\n",
    "    if ch == 1:\n",
    "        item = int(input(\"Enter item to push into stack here:\"))\n",
    "        Push(Stack, item)\n",
    "    elif ch ==2:\n",
    "        item = Pop(Stack)\n",
    "        if item == \"Underflow\":\n",
    "            print(\"Stack is empty\")\n",
    "        else:\n",
    "            print(\"Popped item is,\", item)\n",
    "    elif ch ==3:\n",
    "        item = Peek(Stack)\n",
    "        if item == \"Underflow\":\n",
    "            print(\"Stack is empty\")\n",
    "        else:\n",
    "            print(\"Popped item is,\", item)\n",
    "    elif ch == 4:\n",
    "        display(Stack)\n",
    "    elif ch ==5:\n",
    "        break\n",
    "    else:\n",
    "        print(\"Invalid choice\")\n",
    "        "
   ]
  },
  {
   "cell_type": "code",
   "execution_count": null,
   "id": "ed3ffe54-c0a9-4193-879b-5cad81d30c28",
   "metadata": {},
   "outputs": [],
   "source": []
  }
 ],
 "metadata": {
  "kernelspec": {
   "display_name": "Python 3 (ipykernel)",
   "language": "python",
   "name": "python3"
  },
  "language_info": {
   "codemirror_mode": {
    "name": "ipython",
    "version": 3
   },
   "file_extension": ".py",
   "mimetype": "text/x-python",
   "name": "python",
   "nbconvert_exporter": "python",
   "pygments_lexer": "ipython3",
   "version": "3.11.6"
  }
 },
 "nbformat": 4,
 "nbformat_minor": 5
}
